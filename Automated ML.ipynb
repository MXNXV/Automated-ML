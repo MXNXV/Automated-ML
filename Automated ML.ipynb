{
 "cells": [
  {
   "cell_type": "code",
   "execution_count": 19,
   "id": "96e05116",
   "metadata": {},
   "outputs": [
    {
     "name": "stdout",
     "output_type": "stream",
     "text": [
      "Name: azureml-train-automl\n",
      "Version: 1.44.0\n",
      "Summary: Used for automatically finding the best machine learning model and its parameters.\n",
      "Home-page: https://docs.microsoft.com/python/api/overview/azure/ml/?view=azure-ml-py\n",
      "Author: Microsoft Corp\n",
      "Author-email: None\n",
      "License: https://aka.ms/azureml-sdk-license\n",
      "Location: /anaconda/envs/azureml_py38/lib/python3.8/site-packages\n",
      "Requires: azureml-train-automl-runtime, azureml-train-automl-client, azureml-automl-runtime, azureml-automl-core, azureml-dataset-runtime\n",
      "Required-by: azureml-automl-dnn-nlp\n",
      "Note: you may need to restart the kernel to use updated packages.\n"
     ]
    }
   ],
   "source": [
    "pip show azureml-train-automl"
   ]
  },
  {
   "cell_type": "code",
   "execution_count": 20,
   "id": "5c6135ab",
   "metadata": {},
   "outputs": [
    {
     "name": "stdout",
     "output_type": "stream",
     "text": [
      "Ready to use Azure ML 1.44.0 to work with blog-space\n"
     ]
    }
   ],
   "source": [
    "import azureml.core\n",
    "from azureml.core import Workspace\n",
    "\n",
    "ws = Workspace.from_config()\n",
    "print(\"Ready to use Azure ML {} to work with {}\".format(azureml.core.VERSION, ws.name))"
   ]
  },
  {
   "cell_type": "code",
   "execution_count": 21,
   "id": "483f39e7",
   "metadata": {},
   "outputs": [
    {
     "name": "stdout",
     "output_type": "stream",
     "text": [
      "Dataset already registered.\n",
      "Data ready!\n"
     ]
    }
   ],
   "source": [
    "from azureml.core import Dataset\n",
    "\n",
    "default_ds = ws.get_default_datastore()\n",
    "\n",
    "if 'Titanic dataset' not in ws.datasets:\n",
    "    default_ds.upload_files(files=['./Titanic.csv'], # Upload the Titanic csv file\n",
    "                        target_path='Titanic-data/', # Put it in a folder path in the datastore\n",
    "                        overwrite=True, # Replace existing files of the same name\n",
    "                        show_progress=True)\n",
    "\n",
    "    #Create a tabular dataset from the path on the datastore\n",
    "    tab_data_set = Dataset.Tabular.from_delimited_files(path=(default_ds, 'Titanic-data/*.csv'))\n",
    "\n",
    "    # Register the tabular dataset\n",
    "    try:\n",
    "        tab_data_set = tab_data_set.register(workspace=ws, \n",
    "                                name='Titanic dataset',\n",
    "                                description='Titanic data',\n",
    "                                tags = {'format':'CSV'},\n",
    "                                create_new_version=True)\n",
    "        print('Dataset registered.')\n",
    "    except Exception as ex:\n",
    "        print(ex)\n",
    "else:\n",
    "    print('Dataset already registered.')\n",
    "\n",
    "\n",
    "# Split the dataset into training and validation subsets\n",
    "diabetes_ds = ws.datasets.get(\"Titanic dataset\")\n",
    "train_ds, test_ds = diabetes_ds.random_split(percentage=0.7, seed=123)\n",
    "print(\"Data ready!\")"
   ]
  },
  {
   "cell_type": "markdown",
   "id": "13535c14",
   "metadata": {},
   "source": [
    "## Using Compute Cluster\n",
    "After creating a cluster in Azure machine learning studio we specify the compute cluster below"
   ]
  },
  {
   "cell_type": "code",
   "execution_count": 22,
   "id": "a6365173",
   "metadata": {},
   "outputs": [],
   "source": [
    "from azureml.core.compute import ComputeTarget\n",
    "training_cluster = ComputeTarget(workspace=ws, name=\"blog-cluster\")"
   ]
  },
  {
   "cell_type": "markdown",
   "id": "a6def140",
   "metadata": {},
   "source": [
    "## Configuring AutoML\n",
    "For a problem such as this(classification) various compute resources are used which can be retrieved like this:"
   ]
  },
  {
   "cell_type": "code",
   "execution_count": 23,
   "id": "2b404e71",
   "metadata": {},
   "outputs": [
    {
     "name": "stdout",
     "output_type": "stream",
     "text": [
      "average_precision_score_weighted\n",
      "precision_score_weighted\n",
      "AUC_weighted\n",
      "norm_macro_recall\n",
      "accuracy\n"
     ]
    }
   ],
   "source": [
    "import azureml.train.automl.utilities as automl_utils\n",
    "\n",
    "for metric in automl_utils.get_primary_metrics('classification'):\n",
    "    print(metric)"
   ]
  },
  {
   "cell_type": "markdown",
   "id": "2857a755",
   "metadata": {},
   "source": [
    "We can select any metric from above that we wish to optimize. In our case it is AUC_weighted. Below we customise our AutoML that specifies the target metric as well as additional options"
   ]
  },
  {
   "cell_type": "code",
   "execution_count": 24,
   "id": "b7a48f51",
   "metadata": {},
   "outputs": [
    {
     "name": "stdout",
     "output_type": "stream",
     "text": [
      "Ready for Auto ML run.\n"
     ]
    }
   ],
   "source": [
    "from azureml.train.automl import AutoMLConfig\n",
    "\n",
    "automl_config = AutoMLConfig(name='Automated ML Experiment',\n",
    "                             task='classification',\n",
    "                             compute_target=training_cluster,\n",
    "                             training_data = train_ds,\n",
    "                             validation_data = test_ds,\n",
    "                             label_column_name='Survived',\n",
    "                             iterations=4,\n",
    "                             primary_metric = 'AUC_weighted',\n",
    "                             max_concurrent_iterations=2,\n",
    "                             featurization='auto'\n",
    "                             )\n",
    "\n",
    "print(\"Ready for Auto ML run.\")"
   ]
  },
  {
   "cell_type": "markdown",
   "id": "d1a4ce50",
   "metadata": {},
   "source": [
    "## Running our AutoML experiment\n",
    "This may take some time"
   ]
  },
  {
   "cell_type": "code",
   "execution_count": 25,
   "id": "c2efbb3a",
   "metadata": {},
   "outputs": [
    {
     "name": "stdout",
     "output_type": "stream",
     "text": [
      "Submitting Auto ML experiment...\n",
      "Submitting remote run.\n"
     ]
    },
    {
     "data": {
      "text/html": [
       "<table style=\"width:100%\"><tr><th>Experiment</th><th>Id</th><th>Type</th><th>Status</th><th>Details Page</th><th>Docs Page</th></tr><tr><td>Titanic-automl-sdk</td><td>AutoML_a20f52f2-ac8a-4a84-bdf3-e2a69a408b62</td><td>automl</td><td>NotStarted</td><td><a href=\"https://ml.azure.com/runs/AutoML_a20f52f2-ac8a-4a84-bdf3-e2a69a408b62?wsid=/subscriptions/6e3c48fa-82ed-4be7-8089-5ceb975c37e8/resourcegroups/blog-azure/workspaces/blog-space&amp;tid=84c31ca0-ac3b-4eae-ad11-519d80233e6f\" target=\"_blank\" rel=\"noopener\">Link to Azure Machine Learning studio</a></td><td><a href=\"https://docs.microsoft.com/en-us/python/api/overview/azure/ml/intro?view=azure-ml-py\" target=\"_blank\" rel=\"noopener\">Link to Documentation</a></td></tr></table>"
      ],
      "text/plain": [
       "<IPython.core.display.HTML object>"
      ]
     },
     "metadata": {},
     "output_type": "display_data"
    },
    {
     "data": {
      "application/vnd.jupyter.widget-view+json": {
       "model_id": "12c2d678e6534a4db387fb3ba39ca1b0",
       "version_major": 2,
       "version_minor": 0
      },
      "text/plain": [
       "_AutoMLWidget(widget_settings={'childWidgetDisplay': 'popup', 'send_telemetry': False, 'log_level': 'INFO', 's…"
      ]
     },
     "metadata": {},
     "output_type": "display_data"
    },
    {
     "data": {
      "application/aml.mini.widget.v1": "{\"status\": \"Completed\", \"workbench_run_details_uri\": \"https://ml.azure.com/runs/AutoML_a20f52f2-ac8a-4a84-bdf3-e2a69a408b62?wsid=/subscriptions/6e3c48fa-82ed-4be7-8089-5ceb975c37e8/resourcegroups/blog-azure/workspaces/blog-space&tid=84c31ca0-ac3b-4eae-ad11-519d80233e6f\", \"run_id\": \"AutoML_a20f52f2-ac8a-4a84-bdf3-e2a69a408b62\", \"run_properties\": {\"run_id\": \"AutoML_a20f52f2-ac8a-4a84-bdf3-e2a69a408b62\", \"created_utc\": \"2022-10-29T13:48:41.35724Z\", \"properties\": {\"num_iterations\": \"4\", \"training_type\": \"TrainFull\", \"acquisition_function\": \"EI\", \"primary_metric\": \"AUC_weighted\", \"train_split\": \"0\", \"acquisition_parameter\": \"0\", \"num_cross_validation\": null, \"target\": \"blog-cluster\", \"AMLSettingsJsonString\": \"{\\\"path\\\":null,\\\"name\\\":\\\"Automated ML Experiment\\\",\\\"subscription_id\\\":\\\"6e3c48fa-82ed-4be7-8089-5ceb975c37e8\\\",\\\"resource_group\\\":\\\"blog-azure\\\",\\\"workspace_name\\\":\\\"blog-space\\\",\\\"region\\\":\\\"centralindia\\\",\\\"compute_target\\\":\\\"blog-cluster\\\",\\\"spark_service\\\":null,\\\"azure_service\\\":\\\"remote\\\",\\\"many_models\\\":false,\\\"pipeline_fetch_max_batch_size\\\":1,\\\"enable_batch_run\\\":true,\\\"enable_run_restructure\\\":false,\\\"start_auxiliary_runs_before_parent_complete\\\":false,\\\"enable_code_generation\\\":true,\\\"iterations\\\":4,\\\"primary_metric\\\":\\\"AUC_weighted\\\",\\\"task_type\\\":\\\"classification\\\",\\\"positive_label\\\":null,\\\"data_script\\\":null,\\\"test_size\\\":0.0,\\\"test_include_predictions_only\\\":false,\\\"validation_size\\\":0.0,\\\"n_cross_validations\\\":null,\\\"y_min\\\":null,\\\"y_max\\\":null,\\\"num_classes\\\":null,\\\"featurization\\\":\\\"auto\\\",\\\"_ignore_package_version_incompatibilities\\\":false,\\\"is_timeseries\\\":false,\\\"max_cores_per_iteration\\\":1,\\\"max_concurrent_iterations\\\":2,\\\"iteration_timeout_minutes\\\":null,\\\"mem_in_mb\\\":null,\\\"enforce_time_on_windows\\\":false,\\\"experiment_timeout_minutes\\\":8640,\\\"experiment_exit_score\\\":null,\\\"partition_column_names\\\":null,\\\"whitelist_models\\\":null,\\\"blacklist_algos\\\":[\\\"TensorFlowLinearClassifier\\\",\\\"TensorFlowDNN\\\"],\\\"supported_models\\\":[\\\"LightGBM\\\",\\\"RandomForest\\\",\\\"ExtremeRandomTrees\\\",\\\"XGBoostClassifier\\\",\\\"TensorFlowLinearClassifier\\\",\\\"TabnetClassifier\\\",\\\"GradientBoosting\\\",\\\"KNN\\\",\\\"LogisticRegression\\\",\\\"LinearSVM\\\",\\\"AveragedPerceptronClassifier\\\",\\\"TensorFlowDNN\\\",\\\"DecisionTree\\\",\\\"SGD\\\",\\\"SVM\\\",\\\"BernoulliNaiveBayes\\\",\\\"MultinomialNaiveBayes\\\"],\\\"private_models\\\":[],\\\"auto_blacklist\\\":true,\\\"blacklist_samples_reached\\\":false,\\\"exclude_nan_labels\\\":true,\\\"verbosity\\\":20,\\\"_debug_log\\\":\\\"azureml_automl.log\\\",\\\"show_warnings\\\":false,\\\"model_explainability\\\":true,\\\"service_url\\\":null,\\\"sdk_url\\\":null,\\\"sdk_packages\\\":null,\\\"enable_onnx_compatible_models\\\":false,\\\"enable_split_onnx_featurizer_estimator_models\\\":false,\\\"vm_type\\\":\\\"STANDARD_DS11_V2\\\",\\\"telemetry_verbosity\\\":20,\\\"send_telemetry\\\":true,\\\"enable_dnn\\\":false,\\\"scenario\\\":\\\"AutoML\\\",\\\"environment_label\\\":null,\\\"save_mlflow\\\":false,\\\"enable_categorical_indicators\\\":false,\\\"force_text_dnn\\\":false,\\\"enable_feature_sweeping\\\":true,\\\"enable_early_stopping\\\":true,\\\"early_stopping_n_iters\\\":10,\\\"arguments\\\":null,\\\"dataset_id\\\":\\\"004ab16f-7066-431e-9e3e-e71b0bb30727\\\",\\\"hyperdrive_config\\\":null,\\\"validation_dataset_id\\\":\\\"a1944e84-226b-483a-a7c9-8d76f830e44a\\\",\\\"run_source\\\":null,\\\"metrics\\\":null,\\\"enable_metric_confidence\\\":false,\\\"enable_ensembling\\\":true,\\\"enable_stack_ensembling\\\":true,\\\"ensemble_iterations\\\":4,\\\"enable_tf\\\":false,\\\"enable_subsampling\\\":false,\\\"subsample_seed\\\":null,\\\"enable_nimbusml\\\":false,\\\"enable_streaming\\\":false,\\\"force_streaming\\\":false,\\\"track_child_runs\\\":true,\\\"allowed_private_models\\\":[],\\\"label_column_name\\\":\\\"Survived\\\",\\\"weight_column_name\\\":null,\\\"cv_split_column_names\\\":null,\\\"enable_local_managed\\\":false,\\\"_local_managed_run_id\\\":null,\\\"cost_mode\\\":1,\\\"lag_length\\\":0,\\\"metric_operation\\\":\\\"maximize\\\",\\\"preprocess\\\":true}\", \"DataPrepJsonString\": \"{\\\\\\\"training_data\\\\\\\": {\\\\\\\"datasetId\\\\\\\": \\\\\\\"004ab16f-7066-431e-9e3e-e71b0bb30727\\\\\\\"}, \\\\\\\"validation_data\\\\\\\": {\\\\\\\"datasetId\\\\\\\": \\\\\\\"a1944e84-226b-483a-a7c9-8d76f830e44a\\\\\\\"}, \\\\\\\"datasets\\\\\\\": 0}\", \"EnableSubsampling\": \"False\", \"runTemplate\": \"AutoML\", \"azureml.runsource\": \"automl\", \"display_task_type\": \"classification\", \"dependencies_versions\": \"{\\\"azureml-widgets\\\": \\\"1.44.0\\\", \\\"azureml-training-tabular\\\": \\\"1.44.0\\\", \\\"azureml-train\\\": \\\"1.44.0\\\", \\\"azureml-train-restclients-hyperdrive\\\": \\\"1.44.0\\\", \\\"azureml-train-core\\\": \\\"1.44.0\\\", \\\"azureml-train-automl\\\": \\\"1.44.0\\\", \\\"azureml-train-automl-runtime\\\": \\\"1.44.0\\\", \\\"azureml-train-automl-client\\\": \\\"1.44.0\\\", \\\"azureml-tensorboard\\\": \\\"1.44.0\\\", \\\"azureml-telemetry\\\": \\\"1.44.0\\\", \\\"azureml-sdk\\\": \\\"1.44.0\\\", \\\"azureml-samples\\\": \\\"0+unknown\\\", \\\"azureml-responsibleai\\\": \\\"1.44.0\\\", \\\"azureml-pipeline\\\": \\\"1.44.0\\\", \\\"azureml-pipeline-steps\\\": \\\"1.44.0\\\", \\\"azureml-pipeline-core\\\": \\\"1.44.0\\\", \\\"azureml-opendatasets\\\": \\\"1.44.0\\\", \\\"azureml-mlflow\\\": \\\"1.44.0\\\", \\\"azureml-interpret\\\": \\\"1.44.0\\\", \\\"azureml-inference-server-http\\\": \\\"0.7.4\\\", \\\"azureml-explain-model\\\": \\\"1.44.0\\\", \\\"azureml-defaults\\\": \\\"1.44.0\\\", \\\"azureml-dataset-runtime\\\": \\\"1.44.0\\\", \\\"azureml-dataprep\\\": \\\"4.2.2\\\", \\\"azureml-dataprep-rslex\\\": \\\"2.8.1\\\", \\\"azureml-dataprep-native\\\": \\\"38.0.0\\\", \\\"azureml-datadrift\\\": \\\"1.44.0\\\", \\\"azureml-core\\\": \\\"1.44.0\\\", \\\"azureml-contrib-services\\\": \\\"1.44.0\\\", \\\"azureml-contrib-server\\\": \\\"1.44.0\\\", \\\"azureml-contrib-reinforcementlearning\\\": \\\"1.44.0\\\", \\\"azureml-contrib-pipeline-steps\\\": \\\"1.44.0\\\", \\\"azureml-contrib-notebook\\\": \\\"1.44.0\\\", \\\"azureml-contrib-fairness\\\": \\\"1.44.0\\\", \\\"azureml-contrib-dataset\\\": \\\"1.44.0\\\", \\\"azureml-contrib-automl-pipeline-steps\\\": \\\"1.44.0\\\", \\\"azureml-cli-common\\\": \\\"1.44.0\\\", \\\"azureml-automl-runtime\\\": \\\"1.44.0\\\", \\\"azureml-automl-dnn-nlp\\\": \\\"1.44.0\\\", \\\"azureml-automl-core\\\": \\\"1.44.0\\\", \\\"azureml-accel-models\\\": \\\"1.44.0\\\"}\", \"_aml_system_scenario_identification\": \"Remote.Parent\", \"ClientType\": \"SDK\", \"environment_cpu_name\": \"AzureML-AutoML\", \"environment_cpu_label\": \"prod\", \"environment_gpu_name\": \"AzureML-AutoML-GPU\", \"environment_gpu_label\": \"prod\", \"root_attribution\": \"automl\", \"attribution\": \"AutoML\", \"Orchestrator\": \"AutoML\", \"CancelUri\": \"https://centralindia.api.azureml.ms/jasmine/v1.0/subscriptions/6e3c48fa-82ed-4be7-8089-5ceb975c37e8/resourceGroups/blog-azure/providers/Microsoft.MachineLearningServices/workspaces/blog-space/experimentids/fa32c37f-f526-4d88-8694-39266b5b145d/cancel/AutoML_a20f52f2-ac8a-4a84-bdf3-e2a69a408b62\", \"ClientSdkVersion\": \"1.46.1\", \"snapshotId\": \"00000000-0000-0000-0000-000000000000\", \"SetupRunId\": \"AutoML_a20f52f2-ac8a-4a84-bdf3-e2a69a408b62_setup\", \"SetupRunContainerId\": \"dcid.AutoML_a20f52f2-ac8a-4a84-bdf3-e2a69a408b62_setup\", \"FeaturizationRunJsonPath\": \"featurizer_container.json\", \"FeaturizationRunId\": \"AutoML_a20f52f2-ac8a-4a84-bdf3-e2a69a408b62_featurize\", \"ProblemInfoJsonString\": \"{\\\"dataset_num_categorical\\\": 0, \\\"is_sparse\\\": true, \\\"subsampling\\\": false, \\\"has_extra_col\\\": true, \\\"dataset_classes\\\": 2, \\\"dataset_features\\\": 5599, \\\"dataset_samples\\\": 623, \\\"single_frequency_class_detected\\\": false}\", \"ModelExplainRunId\": \"AutoML_a20f52f2-ac8a-4a84-bdf3-e2a69a408b62_ModelExplain\"}, \"tags\": {\"model_explain_run\": \"best_run\", \"_aml_system_automl_run_workspace_id\": \"1c0dfb8f-37f3-4c0e-860e-96b0183405d0\", \"_aml_system_azureml.automlComponent\": \"AutoML\", \"pipeline_id\": \"\", \"score\": \"\", \"predicted_cost\": \"\", \"fit_time\": \"\", \"training_percent\": \"\", \"iteration\": \"\", \"run_preprocessor\": \"\", \"run_algorithm\": \"\", \"automl_best_child_run_id\": \"AutoML_a20f52f2-ac8a-4a84-bdf3-e2a69a408b62_0\", \"model_explain_best_run_child_id\": \"AutoML_a20f52f2-ac8a-4a84-bdf3-e2a69a408b62_0\"}, \"end_time_utc\": \"2022-10-29T13:55:45.294036Z\", \"status\": \"Completed\", \"log_files\": {}, \"log_groups\": [], \"run_duration\": \"0:07:03\", \"run_number\": \"1667051321\", \"run_queued_details\": {\"status\": \"Completed\", \"details\": null}}, \"child_runs\": [{\"run_id\": \"AutoML_a20f52f2-ac8a-4a84-bdf3-e2a69a408b62_setup\", \"run_number\": 1667051334, \"metric\": null, \"status\": \"Completed\", \"run_type\": \"azureml.scriptrun\", \"training_percent\": null, \"start_time\": \"2022-10-29T13:50:47.57111Z\", \"end_time\": \"2022-10-29T13:52:35.197995Z\", \"created_time\": \"2022-10-29T13:48:54.58487Z\", \"created_time_dt\": \"2022-10-29T13:48:54.58487Z\", \"duration\": \"0:03:40\", \"iteration\": null, \"goal\": null, \"run_name\": \"Completed\", \"run_properties\": null}, {\"run_id\": \"AutoML_a20f52f2-ac8a-4a84-bdf3-e2a69a408b62_featurize\", \"run_number\": 1667051555, \"metric\": null, \"status\": \"Completed\", \"run_type\": \"automl.featurization\", \"training_percent\": null, \"start_time\": \"2022-10-29T13:52:35.789914Z\", \"end_time\": \"2022-10-29T13:53:19.218327Z\", \"created_time\": \"2022-10-29T13:52:35.555759Z\", \"created_time_dt\": \"2022-10-29T13:52:35.555759Z\", \"duration\": \"0:00:43\", \"iteration\": null, \"goal\": null, \"run_name\": \"Completed\", \"run_properties\": null}, {\"run_id\": \"AutoML_a20f52f2-ac8a-4a84-bdf3-e2a69a408b62_1\", \"run_number\": 1667051599, \"metric\": null, \"status\": \"Completed\", \"run_type\": null, \"training_percent\": \"100\", \"start_time\": \"2022-10-29T13:53:35.574422Z\", \"end_time\": \"2022-10-29T13:53:46.938597Z\", \"created_time\": \"2022-10-29T13:53:19.888955Z\", \"created_time_dt\": \"2022-10-29T13:53:19.888955Z\", \"duration\": \"0:00:27\", \"iteration\": \"1\", \"goal\": \"AUC_weighted_max\", \"run_name\": \"MaxAbsScaler, XGBoostClassifier\", \"run_properties\": \"copy=True\", \"primary_metric\": 0.83476483, \"best_metric\": 0.83476483}, {\"run_id\": \"AutoML_a20f52f2-ac8a-4a84-bdf3-e2a69a408b62_worker_1\", \"run_number\": 1667051600, \"metric\": null, \"status\": \"Completed\", \"run_type\": \"azureml.scriptrun\", \"training_percent\": null, \"start_time\": \"2022-10-29T13:53:27.171547Z\", \"end_time\": \"2022-10-29T13:53:51.79097Z\", \"created_time\": \"2022-10-29T13:53:20.104446Z\", \"created_time_dt\": \"2022-10-29T13:53:20.104446Z\", \"duration\": \"0:00:31\", \"iteration\": null, \"goal\": null, \"run_name\": \"Completed\", \"run_properties\": null}, {\"run_id\": \"AutoML_a20f52f2-ac8a-4a84-bdf3-e2a69a408b62_2\", \"run_number\": 1667051660, \"metric\": null, \"status\": \"Completed\", \"run_type\": \"azureml.scriptrun\", \"training_percent\": \"100\", \"start_time\": \"2022-10-29T13:54:33.459919Z\", \"end_time\": \"2022-10-29T13:55:03.244657Z\", \"created_time\": \"2022-10-29T13:54:20.047451Z\", \"created_time_dt\": \"2022-10-29T13:54:20.047451Z\", \"duration\": \"0:00:43\", \"iteration\": \"2\", \"goal\": \"AUC_weighted_max\", \"run_name\": \"VotingEnsemble\", \"run_properties\": \"classification_labels=numpy.array([0, 1]\", \"primary_metric\": 0.84609991, \"best_metric\": 0.84609991}], \"children_metrics\": {\"categories\": [0], \"series\": {\"average_precision_score_macro\": [{\"categories\": [\"1\", \"2\"], \"mode\": \"markers\", \"name\": \"average_precision_score_macro\", \"stepped\": false, \"type\": \"scatter\", \"data\": [0.8206285791546432, 0.8373390471201436]}, {\"categories\": [\"1\", \"2\"], \"mode\": \"lines\", \"name\": \"average_precision_score_macro_max\", \"stepped\": true, \"type\": \"scatter\", \"data\": [0.8206285791546432, 0.8373390471201436]}], \"norm_macro_recall\": [{\"categories\": [\"1\", \"2\"], \"mode\": \"markers\", \"name\": \"norm_macro_recall\", \"stepped\": false, \"type\": \"scatter\", \"data\": [0.5670464504820334, 0.5827052293309962]}, {\"categories\": [\"1\", \"2\"], \"mode\": \"lines\", \"name\": \"norm_macro_recall_max\", \"stepped\": true, \"type\": \"scatter\", \"data\": [0.5670464504820334, 0.5827052293309962]}], \"accuracy\": [{\"categories\": [\"1\", \"2\"], \"mode\": \"markers\", \"name\": \"accuracy\", \"stepped\": false, \"type\": \"scatter\", \"data\": [0.7985074626865671, 0.8059701492537313]}, {\"categories\": [\"1\", \"2\"], \"mode\": \"lines\", \"name\": \"accuracy_max\", \"stepped\": true, \"type\": \"scatter\", \"data\": [0.7985074626865671, 0.8059701492537313]}], \"matthews_correlation\": [{\"categories\": [\"1\", \"2\"], \"mode\": \"markers\", \"name\": \"matthews_correlation\", \"stepped\": false, \"type\": \"scatter\", \"data\": [0.5735167923286187, 0.5893542472842158]}, {\"categories\": [\"1\", \"2\"], \"mode\": \"lines\", \"name\": \"matthews_correlation_max\", \"stepped\": true, \"type\": \"scatter\", \"data\": [0.5735167923286187, 0.5893542472842158]}], \"recall_score_micro\": [{\"categories\": [\"1\", \"2\"], \"mode\": \"markers\", \"name\": \"recall_score_micro\", \"stepped\": false, \"type\": \"scatter\", \"data\": [0.7985074626865671, 0.8059701492537313]}, {\"categories\": [\"1\", \"2\"], \"mode\": \"lines\", \"name\": \"recall_score_micro_max\", \"stepped\": true, \"type\": \"scatter\", \"data\": [0.7985074626865671, 0.8059701492537313]}], \"precision_score_micro\": [{\"categories\": [\"1\", \"2\"], \"mode\": \"markers\", \"name\": \"precision_score_micro\", \"stepped\": false, \"type\": \"scatter\", \"data\": [0.7985074626865671, 0.8059701492537313]}, {\"categories\": [\"1\", \"2\"], \"mode\": \"lines\", \"name\": \"precision_score_micro_max\", \"stepped\": true, \"type\": \"scatter\", \"data\": [0.7985074626865671, 0.8059701492537313]}], \"recall_score_macro\": [{\"categories\": [\"1\", \"2\"], \"mode\": \"markers\", \"name\": \"recall_score_macro\", \"stepped\": false, \"type\": \"scatter\", \"data\": [0.7835232252410167, 0.7913526146654981]}, {\"categories\": [\"1\", \"2\"], \"mode\": \"lines\", \"name\": \"recall_score_macro_max\", \"stepped\": true, \"type\": \"scatter\", \"data\": [0.7835232252410167, 0.7913526146654981]}], \"AUC_macro\": [{\"categories\": [\"1\", \"2\"], \"mode\": \"markers\", \"name\": \"AUC_macro\", \"stepped\": false, \"type\": \"scatter\", \"data\": [0.8347648261758691, 0.846099912357581]}, {\"categories\": [\"1\", \"2\"], \"mode\": \"lines\", \"name\": \"AUC_macro_max\", \"stepped\": true, \"type\": \"scatter\", \"data\": [0.8347648261758691, 0.846099912357581]}], \"average_precision_score_weighted\": [{\"categories\": [\"1\", \"2\"], \"mode\": \"markers\", \"name\": \"average_precision_score_weighted\", \"stepped\": false, \"type\": \"scatter\", \"data\": [0.8241411901066085, 0.8396360065360128]}, {\"categories\": [\"1\", \"2\"], \"mode\": \"lines\", \"name\": \"average_precision_score_weighted_max\", \"stepped\": true, \"type\": \"scatter\", \"data\": [0.8241411901066085, 0.8396360065360128]}], \"average_precision_score_micro\": [{\"categories\": [\"1\", \"2\"], \"mode\": \"markers\", \"name\": \"average_precision_score_micro\", \"stepped\": false, \"type\": \"scatter\", \"data\": [0.8281491510070322, 0.8412065820974359]}, {\"categories\": [\"1\", \"2\"], \"mode\": \"lines\", \"name\": \"average_precision_score_micro_max\", \"stepped\": true, \"type\": \"scatter\", \"data\": [0.8281491510070322, 0.8412065820974359]}], \"AUC_weighted\": [{\"categories\": [\"1\", \"2\"], \"mode\": \"markers\", \"name\": \"AUC_weighted\", \"stepped\": false, \"type\": \"scatter\", \"data\": [0.8347648261758692, 0.8460999123575811]}, {\"categories\": [\"1\", \"2\"], \"mode\": \"lines\", \"name\": \"AUC_weighted_max\", \"stepped\": true, \"type\": \"scatter\", \"data\": [0.8347648261758692, 0.8460999123575811]}], \"precision_score_macro\": [{\"categories\": [\"1\", \"2\"], \"mode\": \"markers\", \"name\": \"precision_score_macro\", \"stepped\": false, \"type\": \"scatter\", \"data\": [0.7900304823381746, 0.7980395672703364]}, {\"categories\": [\"1\", \"2\"], \"mode\": \"lines\", \"name\": \"precision_score_macro_max\", \"stepped\": true, \"type\": \"scatter\", \"data\": [0.7900304823381746, 0.7980395672703364]}], \"balanced_accuracy\": [{\"categories\": [\"1\", \"2\"], \"mode\": \"markers\", \"name\": \"balanced_accuracy\", \"stepped\": false, \"type\": \"scatter\", \"data\": [0.7835232252410167, 0.7913526146654981]}, {\"categories\": [\"1\", \"2\"], \"mode\": \"lines\", \"name\": \"balanced_accuracy_max\", \"stepped\": true, \"type\": \"scatter\", \"data\": [0.7835232252410167, 0.7913526146654981]}], \"weighted_accuracy\": [{\"categories\": [\"1\", \"2\"], \"mode\": \"markers\", \"name\": \"weighted_accuracy\", \"stepped\": false, \"type\": \"scatter\", \"data\": [0.81215087513965, 0.8192796722881311]}, {\"categories\": [\"1\", \"2\"], \"mode\": \"lines\", \"name\": \"weighted_accuracy_max\", \"stepped\": true, \"type\": \"scatter\", \"data\": [0.81215087513965, 0.8192796722881311]}], \"f1_score_macro\": [{\"categories\": [\"1\", \"2\"], \"mode\": \"markers\", \"name\": \"f1_score_macro\", \"stepped\": false, \"type\": \"scatter\", \"data\": [0.7863217576187101, 0.7942357665957949]}, {\"categories\": [\"1\", \"2\"], \"mode\": \"lines\", \"name\": \"f1_score_macro_max\", \"stepped\": true, \"type\": \"scatter\", \"data\": [0.7863217576187101, 0.7942357665957949]}], \"recall_score_weighted\": [{\"categories\": [\"1\", \"2\"], \"mode\": \"markers\", \"name\": \"recall_score_weighted\", \"stepped\": false, \"type\": \"scatter\", \"data\": [0.7985074626865671, 0.8059701492537313]}, {\"categories\": [\"1\", \"2\"], \"mode\": \"lines\", \"name\": \"recall_score_weighted_max\", \"stepped\": true, \"type\": \"scatter\", \"data\": [0.7985074626865671, 0.8059701492537313]}], \"f1_score_weighted\": [{\"categories\": [\"1\", \"2\"], \"mode\": \"markers\", \"name\": \"f1_score_weighted\", \"stepped\": false, \"type\": \"scatter\", \"data\": [0.7973650528364556, 0.8048700508795498]}, {\"categories\": [\"1\", \"2\"], \"mode\": \"lines\", \"name\": \"f1_score_weighted_max\", \"stepped\": true, \"type\": \"scatter\", \"data\": [0.7973650528364556, 0.8048700508795498]}], \"log_loss\": [{\"categories\": [\"1\", \"2\"], \"mode\": \"markers\", \"name\": \"log_loss\", \"stepped\": false, \"type\": \"scatter\", \"data\": [0.6436366787839288, 0.5704339374630372]}, {\"categories\": [\"1\", \"2\"], \"mode\": \"lines\", \"name\": \"log_loss_min\", \"stepped\": true, \"type\": \"scatter\", \"data\": [0.6436366787839288, 0.5704339374630372]}], \"AUC_micro\": [{\"categories\": [\"1\", \"2\"], \"mode\": \"markers\", \"name\": \"AUC_micro\", \"stepped\": false, \"type\": \"scatter\", \"data\": [0.8536700824237023, 0.8633047449320561]}, {\"categories\": [\"1\", \"2\"], \"mode\": \"lines\", \"name\": \"AUC_micro_max\", \"stepped\": true, \"type\": \"scatter\", \"data\": [0.8536700824237023, 0.8633047449320561]}], \"precision_score_weighted\": [{\"categories\": [\"1\", \"2\"], \"mode\": \"markers\", \"name\": \"precision_score_weighted\", \"stepped\": false, \"type\": \"scatter\", \"data\": [0.7970542660554142, 0.8046106209137208]}, {\"categories\": [\"1\", \"2\"], \"mode\": \"lines\", \"name\": \"precision_score_weighted_max\", \"stepped\": true, \"type\": \"scatter\", \"data\": [0.7970542660554142, 0.8046106209137208]}], \"f1_score_micro\": [{\"categories\": [\"1\", \"2\"], \"mode\": \"markers\", \"name\": \"f1_score_micro\", \"stepped\": false, \"type\": \"scatter\", \"data\": [0.7985074626865672, 0.8059701492537313]}, {\"categories\": [\"1\", \"2\"], \"mode\": \"lines\", \"name\": \"f1_score_micro_max\", \"stepped\": true, \"type\": \"scatter\", \"data\": [0.7985074626865672, 0.8059701492537313]}]}, \"metricName\": null, \"primaryMetricName\": \"AUC_weighted\", \"showLegend\": false}, \"run_metrics\": [{\"name\": \"experiment_status\", \"run_id\": \"AutoML_a20f52f2-ac8a-4a84-bdf3-e2a69a408b62\", \"categories\": [0, 1, 2, 3, 4, 5, 6, 7, 8, 9, 10, 11, 12], \"series\": [{\"data\": [\"DatasetEvaluation\", \"FeaturesGeneration\", \"DatasetFeaturization\", \"DatasetFeaturizationCompleted\", \"ModelSelection\", \"BestRunExplainModel\", \"ModelExplanationDataSetSetup\", \"PickSurrogateModel\", \"EngineeredFeatureExplanations\", \"EngineeredFeatureExplanations\", \"RawFeaturesExplanations\", \"RawFeaturesExplanations\", \"BestRunExplainModel\"]}]}, {\"name\": \"experiment_status_description\", \"run_id\": \"AutoML_a20f52f2-ac8a-4a84-bdf3-e2a69a408b62\", \"categories\": [0, 1, 2, 3, 4, 5, 6, 7, 8, 9, 10, 11, 12], \"series\": [{\"data\": [\"Gathering dataset statistics.\", \"Generating features for the dataset.\", \"Beginning to fit featurizers and featurize the dataset.\", \"Completed fit featurizers and featurizing the dataset.\", \"Beginning model selection.\", \"Best run model explanations started\", \"Model explanations data setup completed\", \"Choosing LightGBM as the surrogate model for explanations\", \"Computation of engineered features started\", \"Computation of engineered features completed\", \"Computation of raw features started\", \"Computation of raw features completed\", \"Best run model explanations completed\"]}]}, {\"name\": \"precision_score_macro\", \"run_id\": \"AutoML_a20f52f2-ac8a-4a84-bdf3-e2a69a408b62\", \"categories\": [0], \"series\": [{\"data\": [0.8096428571428571]}]}, {\"name\": \"accuracy\", \"run_id\": \"AutoML_a20f52f2-ac8a-4a84-bdf3-e2a69a408b62\", \"categories\": [0], \"series\": [{\"data\": [0.8171641791044776]}]}, {\"name\": \"weighted_accuracy\", \"run_id\": \"AutoML_a20f52f2-ac8a-4a84-bdf3-e2a69a408b62\", \"categories\": [0], \"series\": [{\"data\": [0.8292014683194127]}]}, {\"name\": \"recall_score_micro\", \"run_id\": \"AutoML_a20f52f2-ac8a-4a84-bdf3-e2a69a408b62\", \"categories\": [0], \"series\": [{\"data\": [0.8171641791044776]}]}, {\"name\": \"norm_macro_recall\", \"run_id\": \"AutoML_a20f52f2-ac8a-4a84-bdf3-e2a69a408b62\", \"categories\": [0], \"series\": [{\"data\": [0.6078878177037685]}]}, {\"name\": \"precision_score_micro\", \"run_id\": \"AutoML_a20f52f2-ac8a-4a84-bdf3-e2a69a408b62\", \"categories\": [0], \"series\": [{\"data\": [0.8171641791044776]}]}, {\"name\": \"precision_score_weighted\", \"run_id\": \"AutoML_a20f52f2-ac8a-4a84-bdf3-e2a69a408b62\", \"categories\": [0], \"series\": [{\"data\": [0.8160581023454159]}]}, {\"name\": \"recall_score_macro\", \"run_id\": \"AutoML_a20f52f2-ac8a-4a84-bdf3-e2a69a408b62\", \"categories\": [0], \"series\": [{\"data\": [0.8039439088518843]}]}, {\"name\": \"AUC_micro\", \"run_id\": \"AutoML_a20f52f2-ac8a-4a84-bdf3-e2a69a408b62\", \"categories\": [0], \"series\": [{\"data\": [0.8638198930719536]}]}, {\"name\": \"balanced_accuracy\", \"run_id\": \"AutoML_a20f52f2-ac8a-4a84-bdf3-e2a69a408b62\", \"categories\": [0], \"series\": [{\"data\": [0.8039439088518843]}]}, {\"name\": \"AUC_macro\", \"run_id\": \"AutoML_a20f52f2-ac8a-4a84-bdf3-e2a69a408b62\", \"categories\": [0], \"series\": [{\"data\": [0.8465673385918785]}]}, {\"name\": \"log_loss\", \"run_id\": \"AutoML_a20f52f2-ac8a-4a84-bdf3-e2a69a408b62\", \"categories\": [0], \"series\": [{\"data\": [0.5721795304719004]}]}, {\"name\": \"recall_score_weighted\", \"run_id\": \"AutoML_a20f52f2-ac8a-4a84-bdf3-e2a69a408b62\", \"categories\": [0], \"series\": [{\"data\": [0.8171641791044776]}]}, {\"name\": \"average_precision_score_micro\", \"run_id\": \"AutoML_a20f52f2-ac8a-4a84-bdf3-e2a69a408b62\", \"categories\": [0], \"series\": [{\"data\": [0.8394446402910397]}]}, {\"name\": \"matthews_correlation\", \"run_id\": \"AutoML_a20f52f2-ac8a-4a84-bdf3-e2a69a408b62\", \"categories\": [0], \"series\": [{\"data\": [0.6135602997198095]}]}, {\"name\": \"f1_score_weighted\", \"run_id\": \"AutoML_a20f52f2-ac8a-4a84-bdf3-e2a69a408b62\", \"categories\": [0], \"series\": [{\"data\": [0.8163154091747438]}]}, {\"name\": \"average_precision_score_weighted\", \"run_id\": \"AutoML_a20f52f2-ac8a-4a84-bdf3-e2a69a408b62\", \"categories\": [0], \"series\": [{\"data\": [0.8396938086684124]}]}, {\"name\": \"average_precision_score_macro\", \"run_id\": \"AutoML_a20f52f2-ac8a-4a84-bdf3-e2a69a408b62\", \"categories\": [0], \"series\": [{\"data\": [0.8382683323292346]}]}, {\"name\": \"AUC_weighted\", \"run_id\": \"AutoML_a20f52f2-ac8a-4a84-bdf3-e2a69a408b62\", \"categories\": [0], \"series\": [{\"data\": [0.8465673385918785]}]}, {\"name\": \"f1_score_macro\", \"run_id\": \"AutoML_a20f52f2-ac8a-4a84-bdf3-e2a69a408b62\", \"categories\": [0], \"series\": [{\"data\": [0.8064696779898313]}]}, {\"name\": \"f1_score_micro\", \"run_id\": \"AutoML_a20f52f2-ac8a-4a84-bdf3-e2a69a408b62\", \"categories\": [0], \"series\": [{\"data\": [0.8171641791044777]}]}], \"run_logs\": \"\\nRun is completed.\", \"graph\": {}, \"widget_settings\": {\"childWidgetDisplay\": \"popup\", \"send_telemetry\": false, \"log_level\": \"INFO\", \"sdk_version\": \"1.44.0\"}, \"loading\": false}"
     },
     "metadata": {},
     "output_type": "display_data"
    },
    {
     "data": {
      "text/plain": [
       "{'runId': 'AutoML_a20f52f2-ac8a-4a84-bdf3-e2a69a408b62',\n",
       " 'target': 'blog-cluster',\n",
       " 'status': 'Completed',\n",
       " 'startTimeUtc': '2022-10-29T13:48:56.664291Z',\n",
       " 'endTimeUtc': '2022-10-29T13:55:45.294036Z',\n",
       " 'services': {},\n",
       " 'properties': {'num_iterations': '4',\n",
       "  'training_type': 'TrainFull',\n",
       "  'acquisition_function': 'EI',\n",
       "  'primary_metric': 'AUC_weighted',\n",
       "  'train_split': '0',\n",
       "  'acquisition_parameter': '0',\n",
       "  'num_cross_validation': None,\n",
       "  'target': 'blog-cluster',\n",
       "  'AMLSettingsJsonString': '{\"path\":null,\"name\":\"Automated ML Experiment\",\"subscription_id\":\"6e3c48fa-82ed-4be7-8089-5ceb975c37e8\",\"resource_group\":\"blog-azure\",\"workspace_name\":\"blog-space\",\"region\":\"centralindia\",\"compute_target\":\"blog-cluster\",\"spark_service\":null,\"azure_service\":\"remote\",\"many_models\":false,\"pipeline_fetch_max_batch_size\":1,\"enable_batch_run\":true,\"enable_run_restructure\":false,\"start_auxiliary_runs_before_parent_complete\":false,\"enable_code_generation\":true,\"iterations\":4,\"primary_metric\":\"AUC_weighted\",\"task_type\":\"classification\",\"positive_label\":null,\"data_script\":null,\"test_size\":0.0,\"test_include_predictions_only\":false,\"validation_size\":0.0,\"n_cross_validations\":null,\"y_min\":null,\"y_max\":null,\"num_classes\":null,\"featurization\":\"auto\",\"_ignore_package_version_incompatibilities\":false,\"is_timeseries\":false,\"max_cores_per_iteration\":1,\"max_concurrent_iterations\":2,\"iteration_timeout_minutes\":null,\"mem_in_mb\":null,\"enforce_time_on_windows\":false,\"experiment_timeout_minutes\":8640,\"experiment_exit_score\":null,\"partition_column_names\":null,\"whitelist_models\":null,\"blacklist_algos\":[\"TensorFlowLinearClassifier\",\"TensorFlowDNN\"],\"supported_models\":[\"LightGBM\",\"RandomForest\",\"ExtremeRandomTrees\",\"XGBoostClassifier\",\"TensorFlowLinearClassifier\",\"TabnetClassifier\",\"GradientBoosting\",\"KNN\",\"LogisticRegression\",\"LinearSVM\",\"AveragedPerceptronClassifier\",\"TensorFlowDNN\",\"DecisionTree\",\"SGD\",\"SVM\",\"BernoulliNaiveBayes\",\"MultinomialNaiveBayes\"],\"private_models\":[],\"auto_blacklist\":true,\"blacklist_samples_reached\":false,\"exclude_nan_labels\":true,\"verbosity\":20,\"_debug_log\":\"azureml_automl.log\",\"show_warnings\":false,\"model_explainability\":true,\"service_url\":null,\"sdk_url\":null,\"sdk_packages\":null,\"enable_onnx_compatible_models\":false,\"enable_split_onnx_featurizer_estimator_models\":false,\"vm_type\":\"STANDARD_DS11_V2\",\"telemetry_verbosity\":20,\"send_telemetry\":true,\"enable_dnn\":false,\"scenario\":\"AutoML\",\"environment_label\":null,\"save_mlflow\":false,\"enable_categorical_indicators\":false,\"force_text_dnn\":false,\"enable_feature_sweeping\":true,\"enable_early_stopping\":true,\"early_stopping_n_iters\":10,\"arguments\":null,\"dataset_id\":\"004ab16f-7066-431e-9e3e-e71b0bb30727\",\"hyperdrive_config\":null,\"validation_dataset_id\":\"a1944e84-226b-483a-a7c9-8d76f830e44a\",\"run_source\":null,\"metrics\":null,\"enable_metric_confidence\":false,\"enable_ensembling\":true,\"enable_stack_ensembling\":true,\"ensemble_iterations\":4,\"enable_tf\":false,\"enable_subsampling\":false,\"subsample_seed\":null,\"enable_nimbusml\":false,\"enable_streaming\":false,\"force_streaming\":false,\"track_child_runs\":true,\"allowed_private_models\":[],\"label_column_name\":\"Survived\",\"weight_column_name\":null,\"cv_split_column_names\":null,\"enable_local_managed\":false,\"_local_managed_run_id\":null,\"cost_mode\":1,\"lag_length\":0,\"metric_operation\":\"maximize\",\"preprocess\":true}',\n",
       "  'DataPrepJsonString': '{\\\\\"training_data\\\\\": {\\\\\"datasetId\\\\\": \\\\\"004ab16f-7066-431e-9e3e-e71b0bb30727\\\\\"}, \\\\\"validation_data\\\\\": {\\\\\"datasetId\\\\\": \\\\\"a1944e84-226b-483a-a7c9-8d76f830e44a\\\\\"}, \\\\\"datasets\\\\\": 0}',\n",
       "  'EnableSubsampling': 'False',\n",
       "  'runTemplate': 'AutoML',\n",
       "  'azureml.runsource': 'automl',\n",
       "  'display_task_type': 'classification',\n",
       "  'dependencies_versions': '{\"azureml-widgets\": \"1.44.0\", \"azureml-training-tabular\": \"1.44.0\", \"azureml-train\": \"1.44.0\", \"azureml-train-restclients-hyperdrive\": \"1.44.0\", \"azureml-train-core\": \"1.44.0\", \"azureml-train-automl\": \"1.44.0\", \"azureml-train-automl-runtime\": \"1.44.0\", \"azureml-train-automl-client\": \"1.44.0\", \"azureml-tensorboard\": \"1.44.0\", \"azureml-telemetry\": \"1.44.0\", \"azureml-sdk\": \"1.44.0\", \"azureml-samples\": \"0+unknown\", \"azureml-responsibleai\": \"1.44.0\", \"azureml-pipeline\": \"1.44.0\", \"azureml-pipeline-steps\": \"1.44.0\", \"azureml-pipeline-core\": \"1.44.0\", \"azureml-opendatasets\": \"1.44.0\", \"azureml-mlflow\": \"1.44.0\", \"azureml-interpret\": \"1.44.0\", \"azureml-inference-server-http\": \"0.7.4\", \"azureml-explain-model\": \"1.44.0\", \"azureml-defaults\": \"1.44.0\", \"azureml-dataset-runtime\": \"1.44.0\", \"azureml-dataprep\": \"4.2.2\", \"azureml-dataprep-rslex\": \"2.8.1\", \"azureml-dataprep-native\": \"38.0.0\", \"azureml-datadrift\": \"1.44.0\", \"azureml-core\": \"1.44.0\", \"azureml-contrib-services\": \"1.44.0\", \"azureml-contrib-server\": \"1.44.0\", \"azureml-contrib-reinforcementlearning\": \"1.44.0\", \"azureml-contrib-pipeline-steps\": \"1.44.0\", \"azureml-contrib-notebook\": \"1.44.0\", \"azureml-contrib-fairness\": \"1.44.0\", \"azureml-contrib-dataset\": \"1.44.0\", \"azureml-contrib-automl-pipeline-steps\": \"1.44.0\", \"azureml-cli-common\": \"1.44.0\", \"azureml-automl-runtime\": \"1.44.0\", \"azureml-automl-dnn-nlp\": \"1.44.0\", \"azureml-automl-core\": \"1.44.0\", \"azureml-accel-models\": \"1.44.0\"}',\n",
       "  '_aml_system_scenario_identification': 'Remote.Parent',\n",
       "  'ClientType': 'SDK',\n",
       "  'environment_cpu_name': 'AzureML-AutoML',\n",
       "  'environment_cpu_label': 'prod',\n",
       "  'environment_gpu_name': 'AzureML-AutoML-GPU',\n",
       "  'environment_gpu_label': 'prod',\n",
       "  'root_attribution': 'automl',\n",
       "  'attribution': 'AutoML',\n",
       "  'Orchestrator': 'AutoML',\n",
       "  'CancelUri': 'https://centralindia.api.azureml.ms/jasmine/v1.0/subscriptions/6e3c48fa-82ed-4be7-8089-5ceb975c37e8/resourceGroups/blog-azure/providers/Microsoft.MachineLearningServices/workspaces/blog-space/experimentids/fa32c37f-f526-4d88-8694-39266b5b145d/cancel/AutoML_a20f52f2-ac8a-4a84-bdf3-e2a69a408b62',\n",
       "  'ClientSdkVersion': '1.46.1',\n",
       "  'snapshotId': '00000000-0000-0000-0000-000000000000',\n",
       "  'SetupRunId': 'AutoML_a20f52f2-ac8a-4a84-bdf3-e2a69a408b62_setup',\n",
       "  'SetupRunContainerId': 'dcid.AutoML_a20f52f2-ac8a-4a84-bdf3-e2a69a408b62_setup',\n",
       "  'FeaturizationRunJsonPath': 'featurizer_container.json',\n",
       "  'FeaturizationRunId': 'AutoML_a20f52f2-ac8a-4a84-bdf3-e2a69a408b62_featurize',\n",
       "  'ProblemInfoJsonString': '{\"dataset_num_categorical\": 0, \"is_sparse\": true, \"subsampling\": false, \"has_extra_col\": true, \"dataset_classes\": 2, \"dataset_features\": 5599, \"dataset_samples\": 623, \"single_frequency_class_detected\": false}',\n",
       "  'ModelExplainRunId': 'AutoML_a20f52f2-ac8a-4a84-bdf3-e2a69a408b62_ModelExplain'},\n",
       " 'inputDatasets': [{'dataset': {'id': '004ab16f-7066-431e-9e3e-e71b0bb30727'}, 'consumptionDetails': {'type': 'RunInput', 'inputName': 'training_data', 'mechanism': 'Direct'}}, {'dataset': {'id': 'a1944e84-226b-483a-a7c9-8d76f830e44a'}, 'consumptionDetails': {'type': 'RunInput', 'inputName': 'validation_data', 'mechanism': 'Direct'}}],\n",
       " 'outputDatasets': [],\n",
       " 'logFiles': {},\n",
       " 'submittedBy': 'Manav Mandal'}"
      ]
     },
     "execution_count": 25,
     "metadata": {},
     "output_type": "execute_result"
    }
   ],
   "source": [
    "from azureml.core.experiment import Experiment\n",
    "from azureml.widgets import RunDetails\n",
    "\n",
    "print('Submitting Auto ML experiment...')\n",
    "automl_experiment = Experiment(ws, 'Titanic-automl-sdk')\n",
    "automl_run = automl_experiment.submit(automl_config)\n",
    "RunDetails(automl_run).show()\n",
    "automl_run.wait_for_completion(show_output=False)"
   ]
  },
  {
   "cell_type": "markdown",
   "id": "da5498fa",
   "metadata": {},
   "source": [
    "## Getting the best model\n",
    "We can retrieve the better peforming model and view the details as follows"
   ]
  },
  {
   "cell_type": "code",
   "execution_count": 29,
   "id": "67422856",
   "metadata": {
    "scrolled": true
   },
   "outputs": [
    {
     "name": "stderr",
     "output_type": "stream",
     "text": [
      "WARNING:root:The version of the SDK does not match the version the model was trained on.\n",
      "WARNING:root:The consistency in the result may not be guaranteed.\n",
      "WARNING:root:Package:azureml-automl-core, training version:1.46.1, current version:1.44.0\n",
      "Package:azureml-automl-runtime, training version:1.46.1, current version:1.44.0\n",
      "Package:azureml-core, training version:1.46.0, current version:1.44.0\n",
      "Package:azureml-dataprep, training version:4.5.7, current version:4.2.2\n",
      "Package:azureml-dataprep-rslex, training version:2.11.4, current version:2.8.1\n",
      "Package:azureml-dataset-runtime, training version:1.46.0, current version:1.44.0\n",
      "Package:azureml-defaults, training version:1.46.0, current version:1.44.0\n",
      "Package:azureml-interpret, training version:1.46.0, current version:1.44.0\n",
      "Package:azureml-mlflow, training version:1.46.0, current version:1.44.0\n",
      "Package:azureml-pipeline-core, training version:1.46.0, current version:1.44.0\n",
      "Package:azureml-responsibleai, training version:1.46.0, current version:1.44.0\n",
      "Package:azureml-telemetry, training version:1.46.0, current version:1.44.0\n",
      "Package:azureml-train-automl-client, training version:1.46.0, current version:1.44.0\n",
      "Package:azureml-train-automl-runtime, training version:1.46.1, current version:1.44.0\n",
      "Package:azureml-train-core, training version:1.46.0, current version:1.44.0\n",
      "Package:azureml-train-restclients-hyperdrive, training version:1.46.0, current version:1.44.0\n",
      "Package:azureml-training-tabular, training version:1.46.1, current version:1.44.0\n",
      "WARNING:root:Please ensure the version of your local conda dependencies match the version on which your model was trained in order to properly retrieve your model.\n"
     ]
    },
    {
     "name": "stdout",
     "output_type": "stream",
     "text": [
      "Run(Experiment: Titanic-automl-sdk,\n",
      "Id: AutoML_a20f52f2-ac8a-4a84-bdf3-e2a69a408b62_0,\n",
      "Type: None,\n",
      "Status: Completed)\n",
      "\n",
      "Best Model Definition:\n",
      "Pipeline(memory=None,\n",
      "         steps=[('datatransformer',\n",
      "                 DataTransformer(enable_dnn=False, enable_feature_sweeping=True, feature_sweeping_config={}, feature_sweeping_timeout=86400, featurization_config=None, force_text_dnn=False, is_cross_validation=False, is_onnx_compatible=False, observer=None, task='classification', working_dir='/mnt/batch/tasks/shared/LS_root/mounts/clusters/bloginst/code/Users/Manav.Mandal/Azure_Blog')),\n",
      "                ('MaxAbsScaler', MaxAbsScaler(copy=True)),\n",
      "                ('LightGBMClassifier',\n",
      "                 LightGBMClassifier(min_data_in_leaf=20, n_jobs=1, problem_info=ProblemInfo(gpu_training_param_dict={'processing_unit_type': 'cpu'}), random_state=None))],\n",
      "         verbose=False)\n"
     ]
    }
   ],
   "source": [
    "best_run, fitted_model = automl_run.get_output()\n",
    "print(best_run)\n",
    "print('\\nBest Model Definition:')\n",
    "print(fitted_model)\n"
   ]
  },
  {
   "cell_type": "markdown",
   "id": "9cf6d583",
   "metadata": {},
   "source": [
    "#Gives a list of all transformations applied\n",
    "\n",
    "print('\\nBest Run Transformations:')\n",
    "for step in fitted_model.named_steps:  \n",
    "    print(step) \n",
    "    \n",
    "#Can be used to explore all the metrics of the best model\n",
    "print('\\nBest Run Metrics:')\n",
    "best_run_metrics = best_run.get_metrics()\n",
    "print(best_run_metrics) "
   ]
  },
  {
   "cell_type": "markdown",
   "id": "3cf4ab36",
   "metadata": {},
   "source": [
    "# Saving the Model\n",
    "Finally we can register the best fitting model"
   ]
  },
  {
   "cell_type": "code",
   "execution_count": 28,
   "id": "c8a0b31b",
   "metadata": {},
   "outputs": [
    {
     "name": "stdout",
     "output_type": "stream",
     "text": [
      "Titanic_model version: 4\n",
      "\t Training context : Auto ML\n",
      "\t AUC : 0.8465673385918785\n",
      "\t Accuracy : 0.8171641791044776\n",
      "\n",
      "\n",
      "Titanic_model version: 3\n",
      "\t Training context : Auto ML\n",
      "\t AUC : 0.8465673385918785\n",
      "\t Accuracy : 0.8171641791044776\n",
      "\n",
      "\n",
      "Titanic_model version: 2\n",
      "\t Training context : Auto ML\n",
      "\t AUC : 0.8465673385918785\n",
      "\t Accuracy : 0.8171641791044776\n",
      "\n",
      "\n"
     ]
    }
   ],
   "source": [
    "from azureml.core import Model\n",
    "\n",
    "# Register model\n",
    "best_run.register_model(model_path='outputs/model.pkl', model_name='Titanic_model',\n",
    "                        tags={'Training context':'Auto ML'},\n",
    "                        properties={'AUC': best_run_metrics['AUC_weighted'], 'Accuracy': best_run_metrics['accuracy']})\n",
    "\n",
    "# List registered models\n",
    "for model in Model.list(ws):\n",
    "    print(model.name, 'version:', model.version)\n",
    "    for tag_name in model.tags:\n",
    "        tag = model.tags[tag_name]\n",
    "        print ('\\t',tag_name, ':', tag)\n",
    "    for prop_name in model.properties:\n",
    "        prop = model.properties[prop_name]\n",
    "        print ('\\t',prop_name, ':', prop)\n",
    "    print('\\n')"
   ]
  },
  {
   "cell_type": "code",
   "execution_count": null,
   "id": "b963bd61",
   "metadata": {},
   "outputs": [],
   "source": []
  }
 ],
 "metadata": {
  "kernelspec": {
   "display_name": "Python 3 (ipykernel)",
   "language": "python",
   "name": "python3"
  },
  "language_info": {
   "codemirror_mode": {
    "name": "ipython",
    "version": 3
   },
   "file_extension": ".py",
   "mimetype": "text/x-python",
   "name": "python",
   "nbconvert_exporter": "python",
   "pygments_lexer": "ipython3",
   "version": "3.8.5"
  }
 },
 "nbformat": 4,
 "nbformat_minor": 5
}
